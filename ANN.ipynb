{
  "nbformat": 4,
  "nbformat_minor": 0,
  "metadata": {
    "colab": {
      "name": "ANN.ipynb",
      "provenance": []
    },
    "kernelspec": {
      "name": "python3",
      "display_name": "Python 3"
    }
  },
  "cells": [
    {
      "cell_type": "markdown",
      "metadata": {
        "id": "-_Q056AfMDrP"
      },
      "source": [
        "**fashion_mnist(ANN)**"
      ]
    },
    {
      "cell_type": "code",
      "metadata": {
        "id": "OwtIuhthIqwo"
      },
      "source": [
        "import tensorflow as tf\n",
        "from tensorflow.keras import models, optimizers, layers\n",
        "from tensorflow.keras.datasets import fashion_mnist\n",
        "import matplotlib.pyplot as plt\n",
        "from tensorflow.keras.utils import to_categorical"
      ],
      "execution_count": 14,
      "outputs": []
    },
    {
      "cell_type": "code",
      "metadata": {
        "id": "1ph7tlg1JCSk"
      },
      "source": [
        "(train_images, train_labels), (test_images, test_labels) = fashion_mnist.load_data()"
      ],
      "execution_count": 15,
      "outputs": []
    },
    {
      "cell_type": "code",
      "metadata": {
        "id": "8n6HDkZ0JZ0M",
        "outputId": "c4a12293-be4f-402b-f682-378b4472f69e",
        "colab": {
          "base_uri": "https://localhost:8080/"
        }
      },
      "source": [
        "train_images.shape"
      ],
      "execution_count": 16,
      "outputs": [
        {
          "output_type": "execute_result",
          "data": {
            "text/plain": [
              "(60000, 28, 28)"
            ]
          },
          "metadata": {
            "tags": []
          },
          "execution_count": 16
        }
      ]
    },
    {
      "cell_type": "code",
      "metadata": {
        "id": "K3rF-tfDJb27",
        "outputId": "65b30f73-eda5-432d-c456-44d3c616e939",
        "colab": {
          "base_uri": "https://localhost:8080/"
        }
      },
      "source": [
        "test_images.shape"
      ],
      "execution_count": 17,
      "outputs": [
        {
          "output_type": "execute_result",
          "data": {
            "text/plain": [
              "(10000, 28, 28)"
            ]
          },
          "metadata": {
            "tags": []
          },
          "execution_count": 17
        }
      ]
    },
    {
      "cell_type": "code",
      "metadata": {
        "id": "4gv8SG6pJd66",
        "outputId": "2031020b-13ec-4895-9abf-2251066748b5",
        "colab": {
          "base_uri": "https://localhost:8080/",
          "height": 282
        }
      },
      "source": [
        "plt.imshow(train_images[1])"
      ],
      "execution_count": 18,
      "outputs": [
        {
          "output_type": "execute_result",
          "data": {
            "text/plain": [
              "<matplotlib.image.AxesImage at 0x7f5e351e3c50>"
            ]
          },
          "metadata": {
            "tags": []
          },
          "execution_count": 18
        },
        {
          "output_type": "display_data",
          "data": {
            "image/png": "[encoded data removed]",
            "text/plain": [
              "<Figure size 432x288 with 1 Axes>"
            ]
          },
          "metadata": {
            "tags": [],
            "needs_background": "light"
          }
        }
      ]
    },
    {
      "cell_type": "code",
      "metadata": {
        "id": "pwb77jhTJlLK"
      },
      "source": [
        "train_images = train_images.reshape(60000,28*28)\n",
        "train_images = train_images.astype('float32')/255.0\n",
        "test_images = test_images.reshape(10000,28*28)\n",
        "test_images = test_images.astype('float32')/255.0"
      ],
      "execution_count": 19,
      "outputs": []
    },
    {
      "cell_type": "code",
      "metadata": {
        "id": "W23C9C0GJ5nL"
      },
      "source": [
        "train_labels = to_categorical(train_labels)\n",
        "test_labels = to_categorical(train_labels)"
      ],
      "execution_count": 20,
      "outputs": []
    },
    {
      "cell_type": "code",
      "metadata": {
        "id": "7axLgqSAKCx0"
      },
      "source": [
        "model = models.Sequential()\n",
        "\n",
        "model.add(layers.Dense(512, activation='relu', input_shape=(28*28,)))\n",
        "model.add(layers.Dense(512, activation='relu'))\n",
        "model.add(layers.Dense(10, activation='softmax'))"
      ],
      "execution_count": 21,
      "outputs": []
    },
    {
      "cell_type": "code",
      "metadata": {
        "id": "pVhYTsDcK0sP"
      },
      "source": [
        "model.compile(loss='categorical_crossentropy',  \n",
        "              optimizer='rmsprop',\n",
        "              metrics=['accuracy'],\n",
        "              )"
      ],
      "execution_count": 22,
      "outputs": []
    },
    {
      "cell_type": "code",
      "metadata": {
        "id": "THO1fcI4LBUB",
        "outputId": "32396801-606d-45d3-b531-c1e070f43416",
        "colab": {
          "base_uri": "https://localhost:8080/"
        }
      },
      "source": [
        "r=model.fit(train_images, train_labels, epochs=10, batch_size=128)"
      ],
      "execution_count": 24,
      "outputs": [
        {
          "output_type": "stream",
          "text": [
            "Epoch 1/10\n",
            "469/469 [==============================] - 8s 16ms/step - loss: 0.2371 - accuracy: 0.9121\n",
            "Epoch 2/10\n",
            "469/469 [==============================] - 8s 17ms/step - loss: 0.2293 - accuracy: 0.9166\n",
            "Epoch 3/10\n",
            "469/469 [==============================] - 8s 17ms/step - loss: 0.2273 - accuracy: 0.9159\n",
            "Epoch 4/10\n",
            "469/469 [==============================] - 8s 17ms/step - loss: 0.2206 - accuracy: 0.9181\n",
            "Epoch 5/10\n",
            "469/469 [==============================] - 8s 17ms/step - loss: 0.2162 - accuracy: 0.9210\n",
            "Epoch 6/10\n",
            "469/469 [==============================] - 8s 17ms/step - loss: 0.2125 - accuracy: 0.9225\n",
            "Epoch 7/10\n",
            "469/469 [==============================] - 8s 17ms/step - loss: 0.2059 - accuracy: 0.9249\n",
            "Epoch 8/10\n",
            "469/469 [==============================] - 8s 17ms/step - loss: 0.2050 - accuracy: 0.9258\n",
            "Epoch 9/10\n",
            "469/469 [==============================] - 8s 18ms/step - loss: 0.2018 - accuracy: 0.9263\n",
            "Epoch 10/10\n",
            "469/469 [==============================] - 8s 17ms/step - loss: 0.1944 - accuracy: 0.9276\n"
          ],
          "name": "stdout"
        }
      ]
    },
    {
      "cell_type": "code",
      "metadata": {
        "id": "tfGiYOABLbVn",
        "outputId": "c8c544e0-eb8e-4293-a7f1-9f9fded0ba6b",
        "colab": {
          "base_uri": "https://localhost:8080/"
        }
      },
      "source": [
        "model.predict(test_images)[7]"
      ],
      "execution_count": 27,
      "outputs": [
        {
          "output_type": "execute_result",
          "data": {
            "text/plain": [
              "array([2.8455827e-13, 7.9562124e-35, 3.8200465e-09, 3.8950119e-20,\n",
              "       6.6078584e-08, 1.3686306e-18, 9.9999988e-01, 4.5050531e-22,\n",
              "       2.4932231e-26, 3.3802454e-16], dtype=float32)"
            ]
          },
          "metadata": {
            "tags": []
          },
          "execution_count": 27
        }
      ]
    },
    {
      "cell_type": "code",
      "metadata": {
        "id": "d4DayEw0MkG9"
      },
      "source": [
        ""
      ],
      "execution_count": null,
      "outputs": []
    }
  ]
}